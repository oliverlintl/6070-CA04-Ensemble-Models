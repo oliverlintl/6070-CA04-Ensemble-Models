{
  "nbformat": 4,
  "nbformat_minor": 0,
  "metadata": {
    "colab": {
      "name": "CA04_Oliver_Lin.ipynb",
      "provenance": [],
      "collapsed_sections": []
    },
    "kernelspec": {
      "name": "python3",
      "display_name": "Python 3"
    },
    "language_info": {
      "name": "python"
    }
  },
  "cells": [
    {
      "cell_type": "code",
      "source": [
        "!pip install category_encoders"
      ],
      "metadata": {
        "colab": {
          "base_uri": "https://localhost:8080/"
        },
        "id": "gg8gqJyNdRq4",
        "outputId": "0f418caf-0269-4717-e5fb-8c8b40309789"
      },
      "execution_count": 36,
      "outputs": [
        {
          "output_type": "stream",
          "name": "stdout",
          "text": [
            "Requirement already satisfied: category_encoders in /usr/local/lib/python3.7/dist-packages (2.3.0)\n",
            "Requirement already satisfied: numpy>=1.14.0 in /usr/local/lib/python3.7/dist-packages (from category_encoders) (1.21.5)\n",
            "Requirement already satisfied: scipy>=1.0.0 in /usr/local/lib/python3.7/dist-packages (from category_encoders) (1.4.1)\n",
            "Requirement already satisfied: scikit-learn>=0.20.0 in /usr/local/lib/python3.7/dist-packages (from category_encoders) (1.0.2)\n",
            "Requirement already satisfied: patsy>=0.5.1 in /usr/local/lib/python3.7/dist-packages (from category_encoders) (0.5.2)\n",
            "Requirement already satisfied: statsmodels>=0.9.0 in /usr/local/lib/python3.7/dist-packages (from category_encoders) (0.10.2)\n",
            "Requirement already satisfied: pandas>=0.21.1 in /usr/local/lib/python3.7/dist-packages (from category_encoders) (1.3.5)\n",
            "Requirement already satisfied: python-dateutil>=2.7.3 in /usr/local/lib/python3.7/dist-packages (from pandas>=0.21.1->category_encoders) (2.8.2)\n",
            "Requirement already satisfied: pytz>=2017.3 in /usr/local/lib/python3.7/dist-packages (from pandas>=0.21.1->category_encoders) (2018.9)\n",
            "Requirement already satisfied: six in /usr/local/lib/python3.7/dist-packages (from patsy>=0.5.1->category_encoders) (1.15.0)\n",
            "Requirement already satisfied: threadpoolctl>=2.0.0 in /usr/local/lib/python3.7/dist-packages (from scikit-learn>=0.20.0->category_encoders) (3.1.0)\n",
            "Requirement already satisfied: joblib>=0.11 in /usr/local/lib/python3.7/dist-packages (from scikit-learn>=0.20.0->category_encoders) (1.1.0)\n"
          ]
        }
      ]
    },
    {
      "cell_type": "markdown",
      "source": [
        "Useful links for Ensemble Models:\n",
        "\n",
        "https://scikit-learn.org/stable/modules/classes.html#module-sklearn.ensemble"
      ],
      "metadata": {
        "id": "SIdggJuhcTb9"
      }
    },
    {
      "cell_type": "code",
      "execution_count": 52,
      "metadata": {
        "id": "BHV8Fciiaum7"
      },
      "outputs": [],
      "source": [
        "import pandas as pd\n",
        "import matplotlib.pyplot as plt\n",
        "from sklearn.ensemble import RandomForestClassifier\n",
        "from sklearn.ensemble import AdaBoostClassifier\n",
        "from sklearn.ensemble import GradientBoostingClassifier\n",
        "from xgboost import XGBClassifier\n",
        "from sklearn.datasets import make_classification\n",
        "from sklearn.model_selection import train_test_split\n",
        "\n",
        "# metrics\n",
        "from sklearn.metrics import accuracy_score\n",
        "from sklearn.metrics import roc_auc_score"
      ]
    },
    {
      "cell_type": "markdown",
      "source": [
        "# 1. Load Data"
      ],
      "metadata": {
        "id": "bZk1r1phbqyD"
      }
    },
    {
      "cell_type": "code",
      "source": [
        "# Load data\n",
        "url = \"https://github.com/ArinB/MSBA-CA-Data/blob/main/CA03/census_data.csv?raw=true\"\n",
        "data = pd.read_csv(url, encoding = \"ISO-8859-1\")\n",
        "print(\"The shape of the data: \", data.shape)\n",
        "data.head(10)"
      ],
      "metadata": {
        "colab": {
          "base_uri": "https://localhost:8080/",
          "height": 380
        },
        "id": "1LFZl7hKa1Xy",
        "outputId": "f0c3ba23-6bdb-466a-c462-920abce0ea20"
      },
      "execution_count": 38,
      "outputs": [
        {
          "output_type": "stream",
          "name": "stdout",
          "text": [
            "The shape of the data:  (48842, 11)\n"
          ]
        },
        {
          "output_type": "execute_result",
          "data": {
            "text/html": [
              "\n",
              "  <div id=\"df-bf45ff88-22a5-40b3-aa2a-cc4dd4a759ed\">\n",
              "    <div class=\"colab-df-container\">\n",
              "      <div>\n",
              "<style scoped>\n",
              "    .dataframe tbody tr th:only-of-type {\n",
              "        vertical-align: middle;\n",
              "    }\n",
              "\n",
              "    .dataframe tbody tr th {\n",
              "        vertical-align: top;\n",
              "    }\n",
              "\n",
              "    .dataframe thead th {\n",
              "        text-align: right;\n",
              "    }\n",
              "</style>\n",
              "<table border=\"1\" class=\"dataframe\">\n",
              "  <thead>\n",
              "    <tr style=\"text-align: right;\">\n",
              "      <th></th>\n",
              "      <th>hours_per_week_bin</th>\n",
              "      <th>occupation_bin</th>\n",
              "      <th>msr_bin</th>\n",
              "      <th>capital_gl_bin</th>\n",
              "      <th>race_sex_bin</th>\n",
              "      <th>education_num_bin</th>\n",
              "      <th>education_bin</th>\n",
              "      <th>workclass_bin</th>\n",
              "      <th>age_bin</th>\n",
              "      <th>flag</th>\n",
              "      <th>y</th>\n",
              "    </tr>\n",
              "  </thead>\n",
              "  <tbody>\n",
              "    <tr>\n",
              "      <th>0</th>\n",
              "      <td>b. 31-40</td>\n",
              "      <td>b. Mid - Low</td>\n",
              "      <td>b. Mid</td>\n",
              "      <td>c. &gt; 0</td>\n",
              "      <td>c. High</td>\n",
              "      <td>c. 13</td>\n",
              "      <td>c. Bachelors</td>\n",
              "      <td>b. income</td>\n",
              "      <td>d. 36-40 &amp; 56-60</td>\n",
              "      <td>train</td>\n",
              "      <td>0</td>\n",
              "    </tr>\n",
              "    <tr>\n",
              "      <th>1</th>\n",
              "      <td>a. 0-30</td>\n",
              "      <td>e. High</td>\n",
              "      <td>c. High</td>\n",
              "      <td>a. = 0</td>\n",
              "      <td>c. High</td>\n",
              "      <td>c. 13</td>\n",
              "      <td>c. Bachelors</td>\n",
              "      <td>b. income</td>\n",
              "      <td>e. 40-55</td>\n",
              "      <td>train</td>\n",
              "      <td>0</td>\n",
              "    </tr>\n",
              "    <tr>\n",
              "      <th>2</th>\n",
              "      <td>b. 31-40</td>\n",
              "      <td>a. Low</td>\n",
              "      <td>b. Mid</td>\n",
              "      <td>a. = 0</td>\n",
              "      <td>c. High</td>\n",
              "      <td>b. 9-12</td>\n",
              "      <td>b. Mid</td>\n",
              "      <td>b. income</td>\n",
              "      <td>d. 36-40 &amp; 56-60</td>\n",
              "      <td>train</td>\n",
              "      <td>0</td>\n",
              "    </tr>\n",
              "    <tr>\n",
              "      <th>3</th>\n",
              "      <td>b. 31-40</td>\n",
              "      <td>a. Low</td>\n",
              "      <td>c. High</td>\n",
              "      <td>a. = 0</td>\n",
              "      <td>b. Mid</td>\n",
              "      <td>a. 0-8</td>\n",
              "      <td>a. Low</td>\n",
              "      <td>b. income</td>\n",
              "      <td>e. 40-55</td>\n",
              "      <td>train</td>\n",
              "      <td>0</td>\n",
              "    </tr>\n",
              "    <tr>\n",
              "      <th>4</th>\n",
              "      <td>b. 31-40</td>\n",
              "      <td>e. High</td>\n",
              "      <td>c. High</td>\n",
              "      <td>a. = 0</td>\n",
              "      <td>a. Low</td>\n",
              "      <td>c. 13</td>\n",
              "      <td>c. Bachelors</td>\n",
              "      <td>b. income</td>\n",
              "      <td>b. 26-30 &amp; 71-100</td>\n",
              "      <td>train</td>\n",
              "      <td>0</td>\n",
              "    </tr>\n",
              "    <tr>\n",
              "      <th>5</th>\n",
              "      <td>b. 31-40</td>\n",
              "      <td>e. High</td>\n",
              "      <td>c. High</td>\n",
              "      <td>a. = 0</td>\n",
              "      <td>b. Mid</td>\n",
              "      <td>d. 14</td>\n",
              "      <td>d. Masters</td>\n",
              "      <td>b. income</td>\n",
              "      <td>d. 36-40 &amp; 56-60</td>\n",
              "      <td>train</td>\n",
              "      <td>0</td>\n",
              "    </tr>\n",
              "    <tr>\n",
              "      <th>6</th>\n",
              "      <td>a. 0-30</td>\n",
              "      <td>a. Low</td>\n",
              "      <td>b. Mid</td>\n",
              "      <td>a. = 0</td>\n",
              "      <td>a. Low</td>\n",
              "      <td>a. 0-8</td>\n",
              "      <td>a. Low</td>\n",
              "      <td>b. income</td>\n",
              "      <td>e. 40-55</td>\n",
              "      <td>train</td>\n",
              "      <td>0</td>\n",
              "    </tr>\n",
              "    <tr>\n",
              "      <th>7</th>\n",
              "      <td>d. 41-50 &amp; 61-70</td>\n",
              "      <td>e. High</td>\n",
              "      <td>c. High</td>\n",
              "      <td>a. = 0</td>\n",
              "      <td>c. High</td>\n",
              "      <td>b. 9-12</td>\n",
              "      <td>b. Mid</td>\n",
              "      <td>b. income</td>\n",
              "      <td>e. 40-55</td>\n",
              "      <td>train</td>\n",
              "      <td>1</td>\n",
              "    </tr>\n",
              "    <tr>\n",
              "      <th>8</th>\n",
              "      <td>d. 41-50 &amp; 61-70</td>\n",
              "      <td>e. High</td>\n",
              "      <td>b. Mid</td>\n",
              "      <td>c. &gt; 0</td>\n",
              "      <td>b. Mid</td>\n",
              "      <td>d. 14</td>\n",
              "      <td>d. Masters</td>\n",
              "      <td>b. income</td>\n",
              "      <td>c. 31-35 &amp; 61-70</td>\n",
              "      <td>train</td>\n",
              "      <td>1</td>\n",
              "    </tr>\n",
              "    <tr>\n",
              "      <th>9</th>\n",
              "      <td>b. 31-40</td>\n",
              "      <td>e. High</td>\n",
              "      <td>c. High</td>\n",
              "      <td>c. &gt; 0</td>\n",
              "      <td>c. High</td>\n",
              "      <td>c. 13</td>\n",
              "      <td>c. Bachelors</td>\n",
              "      <td>b. income</td>\n",
              "      <td>e. 40-55</td>\n",
              "      <td>train</td>\n",
              "      <td>1</td>\n",
              "    </tr>\n",
              "  </tbody>\n",
              "</table>\n",
              "</div>\n",
              "      <button class=\"colab-df-convert\" onclick=\"convertToInteractive('df-bf45ff88-22a5-40b3-aa2a-cc4dd4a759ed')\"\n",
              "              title=\"Convert this dataframe to an interactive table.\"\n",
              "              style=\"display:none;\">\n",
              "        \n",
              "  <svg xmlns=\"http://www.w3.org/2000/svg\" height=\"24px\"viewBox=\"0 0 24 24\"\n",
              "       width=\"24px\">\n",
              "    <path d=\"M0 0h24v24H0V0z\" fill=\"none\"/>\n",
              "    <path d=\"M18.56 5.44l.94 2.06.94-2.06 2.06-.94-2.06-.94-.94-2.06-.94 2.06-2.06.94zm-11 1L8.5 8.5l.94-2.06 2.06-.94-2.06-.94L8.5 2.5l-.94 2.06-2.06.94zm10 10l.94 2.06.94-2.06 2.06-.94-2.06-.94-.94-2.06-.94 2.06-2.06.94z\"/><path d=\"M17.41 7.96l-1.37-1.37c-.4-.4-.92-.59-1.43-.59-.52 0-1.04.2-1.43.59L10.3 9.45l-7.72 7.72c-.78.78-.78 2.05 0 2.83L4 21.41c.39.39.9.59 1.41.59.51 0 1.02-.2 1.41-.59l7.78-7.78 2.81-2.81c.8-.78.8-2.07 0-2.86zM5.41 20L4 18.59l7.72-7.72 1.47 1.35L5.41 20z\"/>\n",
              "  </svg>\n",
              "      </button>\n",
              "      \n",
              "  <style>\n",
              "    .colab-df-container {\n",
              "      display:flex;\n",
              "      flex-wrap:wrap;\n",
              "      gap: 12px;\n",
              "    }\n",
              "\n",
              "    .colab-df-convert {\n",
              "      background-color: #E8F0FE;\n",
              "      border: none;\n",
              "      border-radius: 50%;\n",
              "      cursor: pointer;\n",
              "      display: none;\n",
              "      fill: #1967D2;\n",
              "      height: 32px;\n",
              "      padding: 0 0 0 0;\n",
              "      width: 32px;\n",
              "    }\n",
              "\n",
              "    .colab-df-convert:hover {\n",
              "      background-color: #E2EBFA;\n",
              "      box-shadow: 0px 1px 2px rgba(60, 64, 67, 0.3), 0px 1px 3px 1px rgba(60, 64, 67, 0.15);\n",
              "      fill: #174EA6;\n",
              "    }\n",
              "\n",
              "    [theme=dark] .colab-df-convert {\n",
              "      background-color: #3B4455;\n",
              "      fill: #D2E3FC;\n",
              "    }\n",
              "\n",
              "    [theme=dark] .colab-df-convert:hover {\n",
              "      background-color: #434B5C;\n",
              "      box-shadow: 0px 1px 3px 1px rgba(0, 0, 0, 0.15);\n",
              "      filter: drop-shadow(0px 1px 2px rgba(0, 0, 0, 0.3));\n",
              "      fill: #FFFFFF;\n",
              "    }\n",
              "  </style>\n",
              "\n",
              "      <script>\n",
              "        const buttonEl =\n",
              "          document.querySelector('#df-bf45ff88-22a5-40b3-aa2a-cc4dd4a759ed button.colab-df-convert');\n",
              "        buttonEl.style.display =\n",
              "          google.colab.kernel.accessAllowed ? 'block' : 'none';\n",
              "\n",
              "        async function convertToInteractive(key) {\n",
              "          const element = document.querySelector('#df-bf45ff88-22a5-40b3-aa2a-cc4dd4a759ed');\n",
              "          const dataTable =\n",
              "            await google.colab.kernel.invokeFunction('convertToInteractive',\n",
              "                                                     [key], {});\n",
              "          if (!dataTable) return;\n",
              "\n",
              "          const docLinkHtml = 'Like what you see? Visit the ' +\n",
              "            '<a target=\"_blank\" href=https://colab.research.google.com/notebooks/data_table.ipynb>data table notebook</a>'\n",
              "            + ' to learn more about interactive tables.';\n",
              "          element.innerHTML = '';\n",
              "          dataTable['output_type'] = 'display_data';\n",
              "          await google.colab.output.renderOutput(dataTable, element);\n",
              "          const docLink = document.createElement('div');\n",
              "          docLink.innerHTML = docLinkHtml;\n",
              "          element.appendChild(docLink);\n",
              "        }\n",
              "      </script>\n",
              "    </div>\n",
              "  </div>\n",
              "  "
            ],
            "text/plain": [
              "  hours_per_week_bin occupation_bin  msr_bin capital_gl_bin race_sex_bin  \\\n",
              "0           b. 31-40   b. Mid - Low   b. Mid         c. > 0      c. High   \n",
              "1            a. 0-30        e. High  c. High         a. = 0      c. High   \n",
              "2           b. 31-40         a. Low   b. Mid         a. = 0      c. High   \n",
              "3           b. 31-40         a. Low  c. High         a. = 0       b. Mid   \n",
              "4           b. 31-40        e. High  c. High         a. = 0       a. Low   \n",
              "5           b. 31-40        e. High  c. High         a. = 0       b. Mid   \n",
              "6            a. 0-30         a. Low   b. Mid         a. = 0       a. Low   \n",
              "7   d. 41-50 & 61-70        e. High  c. High         a. = 0      c. High   \n",
              "8   d. 41-50 & 61-70        e. High   b. Mid         c. > 0       b. Mid   \n",
              "9           b. 31-40        e. High  c. High         c. > 0      c. High   \n",
              "\n",
              "  education_num_bin education_bin workclass_bin            age_bin   flag  y  \n",
              "0             c. 13  c. Bachelors     b. income   d. 36-40 & 56-60  train  0  \n",
              "1             c. 13  c. Bachelors     b. income           e. 40-55  train  0  \n",
              "2           b. 9-12        b. Mid     b. income   d. 36-40 & 56-60  train  0  \n",
              "3            a. 0-8        a. Low     b. income           e. 40-55  train  0  \n",
              "4             c. 13  c. Bachelors     b. income  b. 26-30 & 71-100  train  0  \n",
              "5             d. 14    d. Masters     b. income   d. 36-40 & 56-60  train  0  \n",
              "6            a. 0-8        a. Low     b. income           e. 40-55  train  0  \n",
              "7           b. 9-12        b. Mid     b. income           e. 40-55  train  1  \n",
              "8             d. 14    d. Masters     b. income   c. 31-35 & 61-70  train  1  \n",
              "9             c. 13  c. Bachelors     b. income           e. 40-55  train  1  "
            ]
          },
          "metadata": {},
          "execution_count": 38
        }
      ]
    },
    {
      "cell_type": "markdown",
      "source": [
        "## EDA \n",
        "\n",
        "See [6070-CA03-Decision-Tree-Algorithm](https://github.com/oliverlintl/6070-CA03-Decision-Tree-Algorithm)"
      ],
      "metadata": {
        "id": "KDE2KrEXeiUF"
      }
    },
    {
      "cell_type": "markdown",
      "source": [
        "## Preping data for model building\n"
      ],
      "metadata": {
        "id": "0sBY9DLQdF8O"
      }
    },
    {
      "cell_type": "code",
      "source": [
        "# Train test split\n",
        "x_cols = ['hours_per_week_bin',\t'occupation_bin', 'msr_bin',\t'capital_gl_bin',\t'race_sex_bin',\t'education_num_bin',\t'education_bin',\t'workclass_bin',\t'age_bin'] # select variables we are interested in\n",
        "X_train, X_test, y_train, y_test = train_test_split(data[x_cols], data['y'], random_state=101)\n",
        "print(X_train.head())\n",
        "print(y_train.head())\n",
        "print(X_test.head())\n",
        "print(y_test.head())"
      ],
      "metadata": {
        "colab": {
          "base_uri": "https://localhost:8080/"
        },
        "id": "Y_t1szMxdK1G",
        "outputId": "341f4db1-5a8e-4747-b645-3579fd49ddfa"
      },
      "execution_count": 39,
      "outputs": [
        {
          "output_type": "stream",
          "name": "stdout",
          "text": [
            "      hours_per_week_bin occupation_bin  msr_bin capital_gl_bin race_sex_bin  \\\n",
            "387              a. 0-30   b. Mid - Low  c. High         b. < 0       b. Mid   \n",
            "10835           b. 31-40         a. Low  c. High         a. = 0       b. Mid   \n",
            "45084           b. 31-40   b. Mid - Low   a. Low         a. = 0      c. High   \n",
            "11993   d. 41-50 & 61-70        e. High  c. High         b. < 0      c. High   \n",
            "12769           b. 31-40        e. High  c. High         a. = 0       b. Mid   \n",
            "\n",
            "      education_num_bin education_bin workclass_bin            age_bin  \n",
            "387             b. 9-12        b. Mid     b. income           e. 40-55  \n",
            "10835             c. 13  c. Bachelors     b. income  b. 26-30 & 71-100  \n",
            "45084            a. 0-8        a. Low     b. income            a. 0-25  \n",
            "11993             c. 13  c. Bachelors     b. income   d. 36-40 & 56-60  \n",
            "12769             d. 14    d. Masters     b. income           e. 40-55  \n",
            "387      1\n",
            "10835    0\n",
            "45084    0\n",
            "11993    0\n",
            "12769    0\n",
            "Name: y, dtype: int64\n",
            "      hours_per_week_bin occupation_bin  msr_bin capital_gl_bin race_sex_bin  \\\n",
            "30658           b. 31-40         a. Low   b. Mid         a. = 0      c. High   \n",
            "25493           b. 31-40   b. Mid - Low   b. Mid         a. = 0      c. High   \n",
            "11136   d. 41-50 & 61-70        e. High  c. High         a. = 0       b. Mid   \n",
            "3814            b. 31-40        e. High   b. Mid         a. = 0       b. Mid   \n",
            "743             b. 31-40  d. Mid - High   a. Low         a. = 0      c. High   \n",
            "\n",
            "      education_num_bin education_bin workclass_bin            age_bin  \n",
            "30658           b. 9-12        b. Mid     b. income           e. 40-55  \n",
            "25493           b. 9-12        b. Mid     b. income   c. 31-35 & 61-70  \n",
            "11136           b. 9-12        b. Mid     b. income           e. 40-55  \n",
            "3814              c. 13  c. Bachelors     b. income            a. 0-25  \n",
            "743             b. 9-12        b. Mid     b. income  b. 26-30 & 71-100  \n",
            "30658    0\n",
            "25493    0\n",
            "11136    0\n",
            "3814     0\n",
            "743      0\n",
            "Name: y, dtype: int64\n"
          ]
        }
      ]
    },
    {
      "cell_type": "code",
      "source": [
        "# using ordinal encoder to convert string variables into float variable because Decision tree classifier cannot take strings as input\n",
        "import category_encoders as ce\n",
        "encoder = ce.OrdinalEncoder(cols = x_cols)\n",
        "X_train = encoder.fit_transform(X_train)\n",
        "X_test = encoder.transform(X_test)"
      ],
      "metadata": {
        "id": "zvSLXSafdWxN"
      },
      "execution_count": 40,
      "outputs": []
    },
    {
      "cell_type": "code",
      "source": [
        "# Examine X_train, y_train\n",
        "print(X_train.head())\n",
        "print(y_train.head())"
      ],
      "metadata": {
        "colab": {
          "base_uri": "https://localhost:8080/"
        },
        "id": "hO-VG6CHdxf7",
        "outputId": "ed4d81b4-32f2-450e-fd51-fa71cd1a04cc"
      },
      "execution_count": 41,
      "outputs": [
        {
          "output_type": "stream",
          "name": "stdout",
          "text": [
            "       hours_per_week_bin  occupation_bin  msr_bin  capital_gl_bin  \\\n",
            "387                     1               1        1               1   \n",
            "10835                   2               2        1               2   \n",
            "45084                   2               1        2               2   \n",
            "11993                   3               3        1               1   \n",
            "12769                   2               3        1               2   \n",
            "\n",
            "       race_sex_bin  education_num_bin  education_bin  workclass_bin  age_bin  \n",
            "387               1                  1              1              1        1  \n",
            "10835             1                  2              2              1        2  \n",
            "45084             2                  3              3              1        3  \n",
            "11993             2                  2              2              1        4  \n",
            "12769             1                  4              4              1        1  \n",
            "387      1\n",
            "10835    0\n",
            "45084    0\n",
            "11993    0\n",
            "12769    0\n",
            "Name: y, dtype: int64\n"
          ]
        }
      ]
    },
    {
      "cell_type": "markdown",
      "source": [
        "# Model Building and Finding Optimal Hyper-parameters"
      ],
      "metadata": {
        "id": "jMVyv4dLfDhe"
      }
    },
    {
      "cell_type": "markdown",
      "source": [
        "#I. Random Forest Classifier \n",
        "\n"
      ],
      "metadata": {
        "id": "LPH7PDKSi5pZ"
      }
    },
    {
      "cell_type": "markdown",
      "source": [
        "## 2. finding optimal value of a key hyper-parameter"
      ],
      "metadata": {
        "id": "mK-EQTEgfLDo"
      }
    },
    {
      "cell_type": "code",
      "source": [
        "# looping through a list of numbers as max depth options to find the optimal max_depth\n",
        "results = []\n",
        "max_depth_option = [2,4,6,8,10,12,14,16,18,20]\n",
        "for depth in max_depth_option:\n",
        "    model = RandomForestClassifier(max_depth=depth, random_state=101)\n",
        "    model.fit(X_train, y_train)\n",
        "    y_pred = model.predict(X_test)\n",
        "    accuracy = accuracy_score(y_test, y_pred)\n",
        "    results.append(accuracy)\n",
        "\n",
        "plt.figure(figsize=(8,4))\n",
        "pd.Series(results, max_depth_option).plot(color = 'darkseagreen', marker='o')\n",
        "# run time 18s"
      ],
      "metadata": {
        "colab": {
          "base_uri": "https://localhost:8080/",
          "height": 283
        },
        "id": "ecQ9FCc3fIjA",
        "outputId": "1f023c84-2be8-435e-bdb7-6905c3afa260"
      },
      "execution_count": 42,
      "outputs": [
        {
          "output_type": "execute_result",
          "data": {
            "text/plain": [
              "<matplotlib.axes._subplots.AxesSubplot at 0x7f69f33d1150>"
            ]
          },
          "metadata": {},
          "execution_count": 42
        },
        {
          "output_type": "display_data",
          "data": {
            "image/png": "[encoded data removed]",
            "text/plain": [
              "<Figure size 576x288 with 1 Axes>"
            ]
          },
          "metadata": {
            "needs_background": "light"
          }
        }
      ]
    },
    {
      "cell_type": "markdown",
      "source": [
        "The optimal max depth appears to be 10"
      ],
      "metadata": {
        "id": "14Lb7eQrhqP6"
      }
    },
    {
      "cell_type": "markdown",
      "source": [
        "## 3. building a random forest model\n"
      ],
      "metadata": {
        "id": "fQORVw2FhGBn"
      }
    },
    {
      "cell_type": "code",
      "source": [
        "# looping through a list of numbers as estimator options to find the optimal n_estimator\n",
        "results = []\n",
        "n_estimator_option = [50,100,150,200,250,300,350,400,450,500]\n",
        "for n_estimator in n_estimator_option:\n",
        "    model = RandomForestClassifier(n_estimators = n_estimator, max_depth=10, random_state=101)\n",
        "    model.fit(X_train, y_train)\n",
        "    y_pred = model.predict(X_test)\n",
        "    accuracy = accuracy_score(y_test, y_pred)\n",
        "    results.append(accuracy)\n",
        "\n",
        "plt.figure(figsize=(8,4))\n",
        "pd.Series(results, n_estimator_option).plot(color = 'steelblue', marker='o')\n",
        "# run time 49s"
      ],
      "metadata": {
        "colab": {
          "base_uri": "https://localhost:8080/",
          "height": 283
        },
        "id": "M7R0OXiLhJkZ",
        "outputId": "c6d1c517-e940-4f54-86a7-4052da130764"
      },
      "execution_count": 43,
      "outputs": [
        {
          "output_type": "execute_result",
          "data": {
            "text/plain": [
              "<matplotlib.axes._subplots.AxesSubplot at 0x7f69f3353d10>"
            ]
          },
          "metadata": {},
          "execution_count": 43
        },
        {
          "output_type": "display_data",
          "data": {
            "image/png": "[encoded data removed]",
            "text/plain": [
              "<Figure size 576x288 with 1 Axes>"
            ]
          },
          "metadata": {
            "needs_background": "light"
          }
        }
      ]
    },
    {
      "cell_type": "markdown",
      "source": [
        "Answers:\n",
        "1. the accuracy of the model seems to increase when number of estimators increase from 50 to 100. And it sees a small decline after that. And it sees a drastic drop when the number of estimators is above 200.\n",
        "2. The optimal number of estimator appears to be 100"
      ],
      "metadata": {
        "id": "bY0KHm5ZiWPD"
      }
    },
    {
      "cell_type": "markdown",
      "source": [
        "## Find optimized hyper-param for Adaboost"
      ],
      "metadata": {
        "id": "UcKy54uc83ie"
      }
    },
    {
      "cell_type": "code",
      "source": [
        "# looping through a list of numbers as estimator options to find the optimal n_estimator\n",
        "results = []\n",
        "n_estimator_option = [50,100,150,200,250,300,350,400,450,500]\n",
        "for n_estimator in n_estimator_option:\n",
        "    model = AdaBoostClassifier(n_estimators = n_estimator, random_state=101)\n",
        "    model.fit(X_train, y_train)\n",
        "    y_pred = model.predict(X_test)\n",
        "    accuracy = accuracy_score(y_test, y_pred)\n",
        "    results.append(accuracy)\n",
        "\n",
        "plt.figure(figsize=(8,4))\n",
        "pd.Series(results, n_estimator_option).plot(color = 'darkseagreen', marker='o')\n",
        "# runtime 60 sec"
      ],
      "metadata": {
        "colab": {
          "base_uri": "https://localhost:8080/",
          "height": 283
        },
        "id": "gwYcvHJD9P1u",
        "outputId": "89f7cfaa-99f4-4ce8-a79e-de4fea0ad1d5"
      },
      "execution_count": 44,
      "outputs": [
        {
          "output_type": "execute_result",
          "data": {
            "text/plain": [
              "<matplotlib.axes._subplots.AxesSubplot at 0x7f69f3428450>"
            ]
          },
          "metadata": {},
          "execution_count": 44
        },
        {
          "output_type": "display_data",
          "data": {
            "image/png": "[encoded data removed]",
            "text/plain": [
              "<Figure size 576x288 with 1 Axes>"
            ]
          },
          "metadata": {
            "needs_background": "light"
          }
        }
      ]
    },
    {
      "cell_type": "markdown",
      "source": [
        "The optimized number of estimator is 50. Although, the accuracy does not really change by a lot as the number of estimator changes. "
      ],
      "metadata": {
        "id": "G1wQtcTr-ciP"
      }
    },
    {
      "cell_type": "markdown",
      "source": [
        "## Find optimized hyper-param for Gradient Boosting Classifier"
      ],
      "metadata": {
        "id": "sc2lfsGL-rFB"
      }
    },
    {
      "cell_type": "code",
      "source": [
        "# looping through a list of numbers as max depth options to find the optimal max_depth\n",
        "results = []\n",
        "max_depth_option = [2,3,4,6,8,10,12,14,16,18,20]\n",
        "for depth in max_depth_option:\n",
        "    model = GradientBoostingClassifier(max_depth=depth, random_state=101)\n",
        "    model.fit(X_train, y_train)\n",
        "    y_pred = model.predict(X_test)\n",
        "    accuracy = accuracy_score(y_test, y_pred)\n",
        "    results.append(accuracy)\n",
        "\n",
        "plt.figure(figsize=(8,4))\n",
        "pd.Series(results, max_depth_option).plot(color = 'darkseagreen', marker='o')\n",
        "# run time 1 min 49s"
      ],
      "metadata": {
        "colab": {
          "base_uri": "https://localhost:8080/",
          "height": 283
        },
        "id": "GBQ_IgSt_HF3",
        "outputId": "b9119173-aa94-4525-ec4b-ef289670dcf6"
      },
      "execution_count": 45,
      "outputs": [
        {
          "output_type": "execute_result",
          "data": {
            "text/plain": [
              "<matplotlib.axes._subplots.AxesSubplot at 0x7f69f32eff10>"
            ]
          },
          "metadata": {},
          "execution_count": 45
        },
        {
          "output_type": "display_data",
          "data": {
            "image/png": "[encoded data removed]",
            "text/plain": [
              "<Figure size 576x288 with 1 Axes>"
            ]
          },
          "metadata": {
            "needs_background": "light"
          }
        }
      ]
    },
    {
      "cell_type": "code",
      "source": [
        "# looping through a list of numbers as estimator options to find the optimal n_estimator\n",
        "results = []\n",
        "n_estimator_option = [50,100,150,200,250,300,350,400,450,500]\n",
        "for n_estimator in n_estimator_option:\n",
        "    model = GradientBoostingClassifier(n_estimators = n_estimator, max_depth=4, random_state=101)\n",
        "    model.fit(X_train, y_train)\n",
        "    y_pred = model.predict(X_test)\n",
        "    accuracy = accuracy_score(y_test, y_pred)\n",
        "    results.append(accuracy)\n",
        "\n",
        "plt.figure(figsize=(8,4))\n",
        "pd.Series(results, n_estimator_option).plot(color = 'steelblue', marker='o')\n",
        "# run time 49s"
      ],
      "metadata": {
        "colab": {
          "base_uri": "https://localhost:8080/",
          "height": 283
        },
        "id": "iKcYTZYLASCG",
        "outputId": "b9f04b47-9bb4-450b-ab03-bf3f1b3e217d"
      },
      "execution_count": 46,
      "outputs": [
        {
          "output_type": "execute_result",
          "data": {
            "text/plain": [
              "<matplotlib.axes._subplots.AxesSubplot at 0x7f69fc4ce710>"
            ]
          },
          "metadata": {},
          "execution_count": 46
        },
        {
          "output_type": "display_data",
          "data": {
            "image/png": "[encoded data removed]",
            "text/plain": [
              "<Figure size 576x288 with 1 Axes>"
            ]
          },
          "metadata": {
            "needs_background": "light"
          }
        }
      ]
    },
    {
      "cell_type": "markdown",
      "source": [
        "For Gradient Boosting Classifier, the optimized n_estimators is 100, and max depth is 4"
      ],
      "metadata": {
        "id": "SbpBB5mzCXIS"
      }
    },
    {
      "cell_type": "markdown",
      "source": [
        "## Find optimized hyper-param for XGB Classifier\n",
        "\n",
        "https://www.datatechnotes.com/2019/07/classification-example-with.html"
      ],
      "metadata": {
        "id": "Cru7qYtHPkUv"
      }
    },
    {
      "cell_type": "code",
      "source": [
        "# looping through a list of numbers as max depth options to find the optimal max_depth\n",
        "results = []\n",
        "max_depth_option = [2,3,4,6,8,10,12,14,16,18,20]\n",
        "for depth in max_depth_option:\n",
        "    model = XGBClassifier(max_depth=depth, random_state=101)\n",
        "    model.fit(X_train, y_train)\n",
        "    y_pred = model.predict(X_test)\n",
        "    accuracy = accuracy_score(y_test, y_pred)\n",
        "    results.append(accuracy)\n",
        "\n",
        "plt.figure(figsize=(8,4))\n",
        "pd.Series(results, max_depth_option).plot(color = 'darkseagreen', marker='o')\n",
        "# run time 1 min 12s"
      ],
      "metadata": {
        "colab": {
          "base_uri": "https://localhost:8080/",
          "height": 283
        },
        "id": "XnCW728QCqmF",
        "outputId": "0a2472be-4545-4243-a7fc-bd6143089ffb"
      },
      "execution_count": 47,
      "outputs": [
        {
          "output_type": "execute_result",
          "data": {
            "text/plain": [
              "<matplotlib.axes._subplots.AxesSubplot at 0x7f69f33446d0>"
            ]
          },
          "metadata": {},
          "execution_count": 47
        },
        {
          "output_type": "display_data",
          "data": {
            "image/png": "[encoded data removed]",
            "text/plain": [
              "<Figure size 576x288 with 1 Axes>"
            ]
          },
          "metadata": {
            "needs_background": "light"
          }
        }
      ]
    },
    {
      "cell_type": "code",
      "source": [
        "# looping through a list of numbers as estimator options to find the optimal n_estimator\n",
        "results = []\n",
        "n_estimator_option = [50,100,150,200,250,300,350,400,450,500]\n",
        "for n_estimator in n_estimator_option:\n",
        "    model =  XGBClassifier(n_estimators = n_estimator, max_depth=4, random_state=101)\n",
        "    model.fit(X_train, y_train)\n",
        "    y_pred = model.predict(X_test)\n",
        "    accuracy = accuracy_score(y_test, y_pred)\n",
        "    results.append(accuracy)\n",
        "\n",
        "plt.figure(figsize=(8,4))\n",
        "pd.Series(results, n_estimator_option).plot(color = 'steelblue', marker='o')\n",
        "# run time 58s"
      ],
      "metadata": {
        "colab": {
          "base_uri": "https://localhost:8080/",
          "height": 283
        },
        "id": "bVKWsGyHOE6S",
        "outputId": "93dfac05-8227-43ce-b100-77d38b05fdef"
      },
      "execution_count": 48,
      "outputs": [
        {
          "output_type": "execute_result",
          "data": {
            "text/plain": [
              "<matplotlib.axes._subplots.AxesSubplot at 0x7f69f31a5110>"
            ]
          },
          "metadata": {},
          "execution_count": 48
        },
        {
          "output_type": "display_data",
          "data": {
            "image/png": "[encoded data removed]",
            "text/plain": [
              "<Figure size 576x288 with 1 Axes>"
            ]
          },
          "metadata": {
            "needs_background": "light"
          }
        }
      ]
    },
    {
      "cell_type": "markdown",
      "source": [
        "## 5. Compare Performance"
      ],
      "metadata": {
        "id": "1wPiBv7uhzX9"
      }
    },
    {
      "cell_type": "code",
      "source": [
        "max_depth = 5\n",
        "n_estimator = 100\n",
        "\n",
        "rf = RandomForestClassifier(n_estimators = n_estimator, max_depth=max_depth, random_state=101)\n",
        "ada = AdaBoostClassifier(n_estimators = n_estimator, random_state=101)\n",
        "gb = GradientBoostingClassifier(n_estimators = n_estimator, max_depth=max_depth, random_state=101)\n",
        "xgb =  XGBClassifier(n_estimators = n_estimator, max_depth=max_depth, random_state=101)\n",
        "\n",
        "rf.fit(X_train, y_train)\n",
        "rf_y_pred = rf.predict(X_test)\n",
        "\n",
        "ada.fit(X_train, y_train)\n",
        "ada_y_pred = ada.predict(X_test)\n",
        "\n",
        "gb.fit(X_train, y_train)\n",
        "gb_y_pred = gb.predict(X_test)\n",
        "\n",
        "xgb.fit(X_train, y_train)\n",
        "xgb_y_pred = xgb.predict(X_test)"
      ],
      "metadata": {
        "id": "7qVXuY6XhyRO"
      },
      "execution_count": 49,
      "outputs": []
    },
    {
      "cell_type": "code",
      "source": [
        "# get all accuracy scores and auc into lists\n",
        "pred_list = [rf_y_pred, ada_y_pred, gb_y_pred, xgb_y_pred]\n",
        "\n",
        "acc_list = []\n",
        "auc_list = []\n",
        "for pred in pred_list:\n",
        "  accuracy = accuracy_score(y_test, pred)\n",
        "  auc = roc_auc_score(y_test, pred)\n",
        "  acc_list.append(accuracy)\n",
        "  auc_list.append(auc)"
      ],
      "metadata": {
        "id": "z1qGAfgCqKY3"
      },
      "execution_count": 57,
      "outputs": []
    },
    {
      "cell_type": "code",
      "source": [
        "comparison = pd.DataFrame([acc_list, auc_list], columns = ['Random Forest', 'AdaBoost', 'Gradient Boost', 'XGB'])\n",
        "comparison"
      ],
      "metadata": {
        "colab": {
          "base_uri": "https://localhost:8080/",
          "height": 112
        },
        "id": "UQSK9pT9tfyh",
        "outputId": "128d7f34-2d2b-4847-d00e-4a5d4cfa0d49"
      },
      "execution_count": 58,
      "outputs": [
        {
          "output_type": "execute_result",
          "data": {
            "text/html": [
              "\n",
              "  <div id=\"df-0984f4ed-2104-40bf-ade3-d0172e0e01c5\">\n",
              "    <div class=\"colab-df-container\">\n",
              "      <div>\n",
              "<style scoped>\n",
              "    .dataframe tbody tr th:only-of-type {\n",
              "        vertical-align: middle;\n",
              "    }\n",
              "\n",
              "    .dataframe tbody tr th {\n",
              "        vertical-align: top;\n",
              "    }\n",
              "\n",
              "    .dataframe thead th {\n",
              "        text-align: right;\n",
              "    }\n",
              "</style>\n",
              "<table border=\"1\" class=\"dataframe\">\n",
              "  <thead>\n",
              "    <tr style=\"text-align: right;\">\n",
              "      <th></th>\n",
              "      <th>Random Forest</th>\n",
              "      <th>AdaBoost</th>\n",
              "      <th>Gradient Boost</th>\n",
              "      <th>XGB</th>\n",
              "    </tr>\n",
              "  </thead>\n",
              "  <tbody>\n",
              "    <tr>\n",
              "      <th>0</th>\n",
              "      <td>0.831545</td>\n",
              "      <td>0.840390</td>\n",
              "      <td>0.843420</td>\n",
              "      <td>0.844075</td>\n",
              "    </tr>\n",
              "    <tr>\n",
              "      <th>1</th>\n",
              "      <td>0.693869</td>\n",
              "      <td>0.742689</td>\n",
              "      <td>0.757084</td>\n",
              "      <td>0.756357</td>\n",
              "    </tr>\n",
              "  </tbody>\n",
              "</table>\n",
              "</div>\n",
              "      <button class=\"colab-df-convert\" onclick=\"convertToInteractive('df-0984f4ed-2104-40bf-ade3-d0172e0e01c5')\"\n",
              "              title=\"Convert this dataframe to an interactive table.\"\n",
              "              style=\"display:none;\">\n",
              "        \n",
              "  <svg xmlns=\"http://www.w3.org/2000/svg\" height=\"24px\"viewBox=\"0 0 24 24\"\n",
              "       width=\"24px\">\n",
              "    <path d=\"M0 0h24v24H0V0z\" fill=\"none\"/>\n",
              "    <path d=\"M18.56 5.44l.94 2.06.94-2.06 2.06-.94-2.06-.94-.94-2.06-.94 2.06-2.06.94zm-11 1L8.5 8.5l.94-2.06 2.06-.94-2.06-.94L8.5 2.5l-.94 2.06-2.06.94zm10 10l.94 2.06.94-2.06 2.06-.94-2.06-.94-.94-2.06-.94 2.06-2.06.94z\"/><path d=\"M17.41 7.96l-1.37-1.37c-.4-.4-.92-.59-1.43-.59-.52 0-1.04.2-1.43.59L10.3 9.45l-7.72 7.72c-.78.78-.78 2.05 0 2.83L4 21.41c.39.39.9.59 1.41.59.51 0 1.02-.2 1.41-.59l7.78-7.78 2.81-2.81c.8-.78.8-2.07 0-2.86zM5.41 20L4 18.59l7.72-7.72 1.47 1.35L5.41 20z\"/>\n",
              "  </svg>\n",
              "      </button>\n",
              "      \n",
              "  <style>\n",
              "    .colab-df-container {\n",
              "      display:flex;\n",
              "      flex-wrap:wrap;\n",
              "      gap: 12px;\n",
              "    }\n",
              "\n",
              "    .colab-df-convert {\n",
              "      background-color: #E8F0FE;\n",
              "      border: none;\n",
              "      border-radius: 50%;\n",
              "      cursor: pointer;\n",
              "      display: none;\n",
              "      fill: #1967D2;\n",
              "      height: 32px;\n",
              "      padding: 0 0 0 0;\n",
              "      width: 32px;\n",
              "    }\n",
              "\n",
              "    .colab-df-convert:hover {\n",
              "      background-color: #E2EBFA;\n",
              "      box-shadow: 0px 1px 2px rgba(60, 64, 67, 0.3), 0px 1px 3px 1px rgba(60, 64, 67, 0.15);\n",
              "      fill: #174EA6;\n",
              "    }\n",
              "\n",
              "    [theme=dark] .colab-df-convert {\n",
              "      background-color: #3B4455;\n",
              "      fill: #D2E3FC;\n",
              "    }\n",
              "\n",
              "    [theme=dark] .colab-df-convert:hover {\n",
              "      background-color: #434B5C;\n",
              "      box-shadow: 0px 1px 3px 1px rgba(0, 0, 0, 0.15);\n",
              "      filter: drop-shadow(0px 1px 2px rgba(0, 0, 0, 0.3));\n",
              "      fill: #FFFFFF;\n",
              "    }\n",
              "  </style>\n",
              "\n",
              "      <script>\n",
              "        const buttonEl =\n",
              "          document.querySelector('#df-0984f4ed-2104-40bf-ade3-d0172e0e01c5 button.colab-df-convert');\n",
              "        buttonEl.style.display =\n",
              "          google.colab.kernel.accessAllowed ? 'block' : 'none';\n",
              "\n",
              "        async function convertToInteractive(key) {\n",
              "          const element = document.querySelector('#df-0984f4ed-2104-40bf-ade3-d0172e0e01c5');\n",
              "          const dataTable =\n",
              "            await google.colab.kernel.invokeFunction('convertToInteractive',\n",
              "                                                     [key], {});\n",
              "          if (!dataTable) return;\n",
              "\n",
              "          const docLinkHtml = 'Like what you see? Visit the ' +\n",
              "            '<a target=\"_blank\" href=https://colab.research.google.com/notebooks/data_table.ipynb>data table notebook</a>'\n",
              "            + ' to learn more about interactive tables.';\n",
              "          element.innerHTML = '';\n",
              "          dataTable['output_type'] = 'display_data';\n",
              "          await google.colab.output.renderOutput(dataTable, element);\n",
              "          const docLink = document.createElement('div');\n",
              "          docLink.innerHTML = docLinkHtml;\n",
              "          element.appendChild(docLink);\n",
              "        }\n",
              "      </script>\n",
              "    </div>\n",
              "  </div>\n",
              "  "
            ],
            "text/plain": [
              "   Random Forest  AdaBoost  Gradient Boost       XGB\n",
              "0       0.831545  0.840390        0.843420  0.844075\n",
              "1       0.693869  0.742689        0.757084  0.756357"
            ]
          },
          "metadata": {},
          "execution_count": 58
        }
      ]
    }
  ]
}